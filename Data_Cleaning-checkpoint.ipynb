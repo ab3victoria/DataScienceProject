{
 "cells": [
  {
   "cell_type": "code",
   "execution_count": 1,
   "id": "e7689045",
   "metadata": {},
   "outputs": [],
   "source": [
    "import pandas as pd\n",
    "import numpy as np\n",
    "import matplotlib as mpl\n",
    "import matplotlib.pyplot as plt      \n",
    "import math\n",
    "import seaborn as sns\n",
    "from collections import Counter\n",
    "from sklearn.decomposition import PCA\n",
    "import seaborn as sns\n",
    "%matplotlib inline"
   ]
  },
  {
   "cell_type": "code",
   "execution_count": 2,
   "id": "abf4b3c5",
   "metadata": {},
   "outputs": [],
   "source": [
    "def load_file(file_name):\n",
    "    df = pd.read_csv(file_name)\n",
    "    return df\n",
    "    \n",
    "def remove_empty_rows(df):\n",
    "    return df.dropna(axis=0,thresh=17)\n",
    "\n",
    "def remove_empty_cols(df):\n",
    "    return df.drop(columns='3p%')\n",
    "\n",
    "def rename_columns(df):\n",
    "    df2=df.rename(columns={'G':'games','GS':'gameStarted','MP':'minPlayed',\n",
    "                                'FG':'fieldGoals','FGA':'fieldGoalsAttemp',\n",
    "                                'FG%':'fGPerc','P2':'point2_Goals','2PA':'point2_Attemp',\n",
    "                                '2P%':'point2_Perc','3P':'point3_Goals','3PA':'point3_Attemp','3P%':'point3_Perc','FT':'freeThrows','FTA':'freeThrowsAttemp',\n",
    "                                'FT%':'freeThrowsPerc','ORB':'offensRebounds','DRB':'deffensRebounds'})\n",
    "    return df2\n",
    "\n"
   ]
  },
  {
   "cell_type": "code",
   "execution_count": 3,
   "id": "0d95bcdb",
   "metadata": {},
   "outputs": [
    {
     "data": {
      "text/plain": [
       "(15388, 18)"
      ]
     },
     "execution_count": 3,
     "metadata": {},
     "output_type": "execute_result"
    }
   ],
   "source": [
    "df_A = load_file('data\\Dataframe_A.csv')\n",
    "df_B = load_file('data\\Dataframe_B.csv')\n",
    "df_C = load_file('data\\Dataframe_C.csv')\n",
    "df_H = load_file('data\\Dataframe_H.csv')\n",
    "df_M = load_file('data\\Dataframe_M.csv')\n",
    "df_W = load_file('data\\Dataframe_W.csv')\n",
    "df_Z = load_file('data\\Dataframe_Z.csv')\n",
    "\n",
    "frames = [df_A, df_B, df_C,df_H,df_M,df_W,df_Z]\n",
    "df = pd.concat(frames)\n",
    "\n",
    "df=remove_empty_rows(df)\n",
    "\n",
    "\n",
    "df=rename_columns(df)\n",
    "df=df.sort_values(by=['name'])\n",
    "df=df.reset_index(drop=True)\n",
    "df=df.drop_duplicates(subset=['name'],ignore_index=True)\n",
    "df.shape"
   ]
  },
  {
   "cell_type": "code",
   "execution_count": 4,
   "id": "4e570afd",
   "metadata": {},
   "outputs": [],
   "source": [
    "# load nba drafts statistics\n",
    "df_nb = load_file('data\\Dataframe_NBA_Correct.csv')\n",
    "df_nba=df_nb.rename(columns={'Name':'name','DraftPick':'draft'})\n",
    "\n",
    "# merge players stats with draft stats\n",
    "my_dataset = pd.merge(df,df_nba,on='name',how='left')\n",
    "\n",
    "\n",
    "# changing our draft column to \"1\" if the player was picked on first draft, \"0\" otherwise.\n",
    "my_dataset['draft'] = my_dataset['draft'].replace(np.nan, 0)\n",
    "my_dataset['deffensRebounds'] = my_dataset['deffensRebounds'].replace(np.nan, 0)\n",
    "my_dataset['draft'] = my_dataset['draft'].map(lambda val:1 if val == 1 else 0)\n",
    "my_dataset.to_csv(r'C:\\Users\\vikvi\\0_NBA_PROJECT\\data\\check.csv',index=False)\n"
   ]
  }
 ],
 "metadata": {
  "kernelspec": {
   "display_name": "Python 3",
   "language": "python",
   "name": "python3"
  },
  "language_info": {
   "codemirror_mode": {
    "name": "ipython",
    "version": 3
   },
   "file_extension": ".py",
   "mimetype": "text/x-python",
   "name": "python",
   "nbconvert_exporter": "python",
   "pygments_lexer": "ipython3",
   "version": "3.8.8"
  }
 },
 "nbformat": 4,
 "nbformat_minor": 5
}
